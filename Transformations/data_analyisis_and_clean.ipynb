{
 "cells": [
  {
   "cell_type": "code",
   "execution_count": 1,
   "metadata": {
    "collapsed": true
   },
   "outputs": [],
   "source": [
    "import Utils.paths as paths\n",
    "import pandas as pd"
   ]
  },
  {
   "cell_type": "code",
   "execution_count": 2,
   "outputs": [
    {
     "data": {
      "text/plain": "((552, 21620), (552, 21620), (552, 17))"
     },
     "execution_count": 2,
     "metadata": {},
     "output_type": "execute_result"
    }
   ],
   "source": [
    "# Cargamos los datos originales\n",
    "fhr_pickle = pd.read_pickle(f\"{paths.ORIGINAL_DATA_PATH}/fhr_ctu-chb.pickle\")\n",
    "uc_pickle = pd.read_pickle(f\"{paths.ORIGINAL_DATA_PATH}/uc_ctu-chb.pickle\")\n",
    "clinical_pickle = pd.read_pickle(f\"{paths.ORIGINAL_DATA_PATH}/clinical_ctu-chb.pickle\")\n",
    "\n",
    "fhr_pickle.shape, uc_pickle.shape, clinical_pickle.shape"
   ],
   "metadata": {
    "collapsed": false,
    "pycharm": {
     "name": "#%%\n"
    }
   }
  },
  {
   "cell_type": "code",
   "execution_count": 2,
   "outputs": [],
   "source": [],
   "metadata": {
    "collapsed": false,
    "pycharm": {
     "name": "#%%\n"
    }
   }
  }
 ],
 "metadata": {
  "kernelspec": {
   "name": "pycharm-3b3010fa",
   "language": "python",
   "display_name": "PyCharm (fda-scikit)"
  },
  "language_info": {
   "codemirror_mode": {
    "name": "ipython",
    "version": 2
   },
   "file_extension": ".py",
   "mimetype": "text/x-python",
   "name": "python",
   "nbconvert_exporter": "python",
   "pygments_lexer": "ipython2",
   "version": "2.7.6"
  }
 },
 "nbformat": 4,
 "nbformat_minor": 0
}