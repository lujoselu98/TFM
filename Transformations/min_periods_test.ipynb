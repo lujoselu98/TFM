{
 "cells": [
  {
   "cell_type": "code",
   "execution_count": 52,
   "metadata": {
    "collapsed": true
   },
   "outputs": [
    {
     "data": {
      "text/plain": "<module 'Utils.transformation_utils' from 'C:\\\\Users\\\\jllav\\\\IdeaProjects\\\\TFM\\\\Utils\\\\transformation_utils.py'>"
     },
     "execution_count": 52,
     "metadata": {},
     "output_type": "execute_result"
    }
   ],
   "source": [
    "import importlib\n",
    "\n",
    "import joblib\n",
    "import matplotlib.pylab as plt\n",
    "import numpy as np\n",
    "import pandas as pd\n",
    "from tqdm.notebook import tqdm\n",
    "\n",
    "from Utils import paths\n",
    "from Utils import transformation_utils as t_utils\n",
    "\n",
    "importlib.reload(t_utils)"
   ]
  },
  {
   "cell_type": "code",
   "execution_count": 35,
   "outputs": [
    {
     "data": {
      "text/plain": "((552, 21620), (552, 21620), (552, 17))"
     },
     "execution_count": 35,
     "metadata": {},
     "output_type": "execute_result"
    }
   ],
   "source": [
    "# Cargamos los datos originales\n",
    "fhr = pd.read_pickle(f\"{paths.ORIGINAL_DATA_PATH}/fhr_ctu-chb.pickle\")\n",
    "uc = pd.read_pickle(f\"{paths.ORIGINAL_DATA_PATH}/uc_ctu-chb.pickle\")\n",
    "clinical = pd.read_pickle(f\"{paths.ORIGINAL_DATA_PATH}/clinical_ctu-chb.pickle\")\n",
    "\n",
    "fhr.columns = fhr.columns.astype('float64')\n",
    "uc.columns = uc.columns.astype('float64')\n",
    "\n",
    "# Labels\n",
    "y = clinical['ph'].apply(lambda x: 0 if x >= 7.2 else 1)\n",
    "\n",
    "fhr.shape, uc.shape, clinical.shape"
   ],
   "metadata": {
    "collapsed": false,
    "pycharm": {
     "name": "#%%\n"
    }
   }
  },
  {
   "cell_type": "code",
   "execution_count": 36,
   "outputs": [
    {
     "data": {
      "text/plain": "  0%|          | 0/552 [00:00<?, ?it/s]",
      "application/vnd.jupyter.widget-view+json": {
       "version_major": 2,
       "version_minor": 0,
       "model_id": "daa179b838f54deeba85ab286255b44b"
      }
     },
     "metadata": {},
     "output_type": "display_data"
    }
   ],
   "source": [
    "fhr_clean = fhr.copy()\n",
    "uc_clean = uc.copy()\n",
    "\n",
    "threshold = 5 * 4\n",
    "for (idx_fhr, fhr_row), (idx_uc, uc_row) in tqdm(zip(fhr_clean.iterrows(), uc_clean.iterrows()), total=len(uc_clean)):\n",
    "    fhr_row[(fhr_row <= 0) | (fhr_row >= 250)] = np.nan\n",
    "    uc_row[uc_row <= 0] = np.nan\n",
    "\n",
    "    constant_parts_fhr = [x for x in np.split(fhr_row.index, np.where(np.diff(fhr_row.values) != 0)[0] + 1) if\n",
    "                          x.size > threshold]\n",
    "    constant_parts_uc = [x for x in np.split(uc_row.index, np.where(np.diff(uc_row.values) != 0)[0] + 1) if\n",
    "                         x.size > threshold]\n",
    "\n",
    "    for constant_part in constant_parts_fhr:\n",
    "        fhr_row[constant_part] = np.nan\n",
    "\n",
    "    for constant_part in constant_parts_uc:\n",
    "        uc_row[constant_part] = np.nan"
   ],
   "metadata": {
    "collapsed": false,
    "pycharm": {
     "name": "#%%\n"
    }
   }
  },
  {
   "cell_type": "code",
   "execution_count": 47,
   "outputs": [
    {
     "data": {
      "text/plain": "  0%|          | 0/552 [00:00<?, ?it/s]",
      "application/vnd.jupyter.widget-view+json": {
       "version_major": 2,
       "version_minor": 0,
       "model_id": "9498918a1a1d4d0eadfa05a306f16bd0"
      }
     },
     "metadata": {},
     "output_type": "display_data"
    },
    {
     "data": {
      "text/plain": "  0%|          | 0/552 [00:00<?, ?it/s]",
      "application/vnd.jupyter.widget-view+json": {
       "version_major": 2,
       "version_minor": 0,
       "model_id": "561cef9d9faf4c01851546bfeb9d7a0a"
      }
     },
     "metadata": {},
     "output_type": "display_data"
    },
    {
     "data": {
      "text/plain": "  0%|          | 0/552 [00:00<?, ?it/s]",
      "application/vnd.jupyter.widget-view+json": {
       "version_major": 2,
       "version_minor": 0,
       "model_id": "246502285c714d8c8b82cedfd05b1095"
      }
     },
     "metadata": {},
     "output_type": "display_data"
    },
    {
     "data": {
      "text/plain": "  0%|          | 0/552 [00:00<?, ?it/s]",
      "application/vnd.jupyter.widget-view+json": {
       "version_major": 2,
       "version_minor": 0,
       "model_id": "75923f52b5a7418ab4b7828ff94b562a"
      }
     },
     "metadata": {},
     "output_type": "display_data"
    },
    {
     "data": {
      "text/plain": "  0%|          | 0/552 [00:00<?, ?it/s]",
      "application/vnd.jupyter.widget-view+json": {
       "version_major": 2,
       "version_minor": 0,
       "model_id": "6e1524ce3a64403e9ef17b5865bdac73"
      }
     },
     "metadata": {},
     "output_type": "display_data"
    },
    {
     "data": {
      "text/plain": "  0%|          | 0/552 [00:00<?, ?it/s]",
      "application/vnd.jupyter.widget-view+json": {
       "version_major": 2,
       "version_minor": 0,
       "model_id": "0d6c03c1f07c4811817adf6253270791"
      }
     },
     "metadata": {},
     "output_type": "display_data"
    },
    {
     "data": {
      "text/plain": "  0%|          | 0/552 [00:00<?, ?it/s]",
      "application/vnd.jupyter.widget-view+json": {
       "version_major": 2,
       "version_minor": 0,
       "model_id": "2903579cedc341b694eff3aa605c14d7"
      }
     },
     "metadata": {},
     "output_type": "display_data"
    }
   ],
   "source": [
    "nans = []\n",
    "for min_num_points in [100, 1000, 2000, 3000, 5000, 7000, 10000]:\n",
    "    cc_data = dict()\n",
    "    lags = t_utils.calc_lags(minutes=5)\n",
    "\n",
    "    for (idx_fhr, fhr_row), (idx_uc, uc_row) in tqdm(zip(fhr_clean.copy().iterrows(), uc_clean.copy().iterrows()),\n",
    "                                                     total=len(uc_clean)):\n",
    "        fhr_signal = pd.Series(fhr_row.values)\n",
    "        uc_signal = pd.Series(uc_row.values)\n",
    "\n",
    "        cc_data[idx_fhr] = joblib.Parallel(n_jobs=8)(\n",
    "            joblib.delayed(t_utils.cc)(fhr_signal, uc_signal, lag, min_num_points=min_num_points) for lag in lags\n",
    "        )\n",
    "\n",
    "    cc_df = pd.DataFrame(cc_data).T\n",
    "    cc_df.columns = lags\n",
    "    nans.append(cc_df.index[cc_df.isna().sum(axis=1) > 0])"
   ],
   "metadata": {
    "collapsed": false,
    "pycharm": {
     "name": "#%%\n"
    }
   }
  },
  {
   "cell_type": "code",
   "execution_count": 56,
   "outputs": [
    {
     "data": {
      "text/plain": "<Figure size 432x288 with 1 Axes>",
      "image/png": "[encoded data removed]"
     },
     "metadata": {
      "needs_background": "light"
     },
     "output_type": "display_data"
    }
   ],
   "source": [
    "plt.plot([100, 1000, 2000, 3000, 5000, 7000, 10000], [len(x) for x in nans], '*-')\n",
    "plt.yscale('log')"
   ],
   "metadata": {
    "collapsed": false,
    "pycharm": {
     "name": "#%%\n"
    }
   }
  },
  {
   "cell_type": "code",
   "execution_count": 81,
   "outputs": [
    {
     "data": {
      "text/plain": "(76,\n Int64Index([1006, 1027, 1040, 1043, 1047, 1064, 1068, 1073, 1079, 1082, 1087,\n             1104, 1105, 1108, 1109, 1119, 1130, 1134, 1149, 1151, 1155, 1158,\n             1164, 1173, 1184, 1186, 1188, 1196, 1198, 1199, 1205, 1209, 1215,\n             1219, 1228, 1231, 1244, 1251, 1254, 1258, 1259, 1260, 1268, 1279,\n             1284, 1292, 1311, 1318, 1321, 1322, 1327, 1335, 1359, 1361, 1376,\n             1386, 1393, 1425, 1431, 1451, 1452, 1456, 1477, 1478, 1481, 1482,\n             2003, 2004, 2013, 2018, 2019, 2020, 2022, 2024, 2030, 2036],\n            dtype='int64'))"
     },
     "execution_count": 81,
     "metadata": {},
     "output_type": "execute_result"
    }
   ],
   "source": [
    "nans[5].size, nans[5]"
   ],
   "metadata": {
    "collapsed": false,
    "pycharm": {
     "name": "#%%\n"
    }
   }
  },
  {
   "cell_type": "code",
   "execution_count": 80,
   "outputs": [
    {
     "data": {
      "text/plain": "array([2399, 2399, 2399, 1527, 2399, 2399, 2050, 2399, 1680, 2399, 2399,\n       2399, 2399, 2399, 2399, 2399, 2399,  563, 2399, 2399, 1559,  848,\n       2330, 2399, 2399, 2399, 2399,  308, 2399, 2399,  270, 2399, 2399,\n        777,  494, 2399, 2399, 1770, 1887, 2399, 1666, 1534, 2399, 1994,\n       1014, 2399, 2399, 2399,  186, 2399, 2399, 2399, 2399,  588, 2399,\n       2399, 2399,  574, 2399, 2399, 2399, 2243, 2399, 2399, 2399, 2399,\n       2399, 2399, 2399, 1995, 2399, 2399, 2399, 2399, 2399, 2399, 2399,\n       1379,  730, 1353, 2399, 2399, 2399, 2399, 2399,  450, 2399,  122,\n       2399, 2351, 2399,  538, 2399, 2399, 2399, 2399,  204,  687, 2399,\n        412, 2054, 1823, 2399, 2399, 2218, 2399, 2399, 2399, 2399, 2399,\n       2399, 1015, 1251, 1320, 2399, 2399,  716, 1134, 2399, 2399,  983,\n       1819, 2399, 2399, 1331,  968, 2399, 2399, 2399,  814, 2399,  693,\n       2399, 2399, 2399,  722, 2399, 2004, 2399, 2399, 2399, 2399, 2399,\n       1581,  504, 2399, 2399, 2399,  529,  221, 2399, 2399, 2399,  184,\n       2399, 2399, 1180, 1656, 2399, 1071, 1186, 2399, 2359, 2399,  271,\n       2399, 2399, 1809, 1415, 2399,  440,  830,  248, 2399, 2399, 2399,\n       2399, 2399, 2399,  336, 2399, 2399, 2399, 2399, 2399,  438, 2399,\n       2399, 2399,   77, 2399, 2399, 2399, 2399,  581, 2399, 2399, 2158,\n       1823,  761, 2399, 2399, 2399, 1040, 2175, 2399, 2399, 2361, 2399,\n       2399, 1804, 2399,    3, 2399, 2399, 2399, 1631, 2399, 2399, 2399,\n       2399, 2399, 2399, 1547,  669, 2399, 2399,   83, 2399, 2399, 2399],\n      dtype=int64)"
     },
     "execution_count": 80,
     "metadata": {},
     "output_type": "execute_result"
    }
   ],
   "source": [
    "cc_df.loc[nans[6]].isna().sum(axis=1).values"
   ],
   "metadata": {
    "collapsed": false,
    "pycharm": {
     "name": "#%%\n"
    }
   }
  }
 ],
 "metadata": {
  "kernelspec": {
   "display_name": "Python 3",
   "language": "python",
   "name": "python3"
  },
  "language_info": {
   "codemirror_mode": {
    "name": "ipython",
    "version": 2
   },
   "file_extension": ".py",
   "mimetype": "text/x-python",
   "name": "python",
   "nbconvert_exporter": "python",
   "pygments_lexer": "ipython2",
   "version": "2.7.6"
  }
 },
 "nbformat": 4,
 "nbformat_minor": 0
}