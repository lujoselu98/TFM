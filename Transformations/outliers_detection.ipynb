{
 "cells": [
  {
   "cell_type": "code",
   "execution_count": 1,
   "metadata": {
    "collapsed": true
   },
   "outputs": [
    {
     "data": {
      "text/plain": "<module 'Utils.paths' from 'C:\\\\Users\\\\jllav\\\\IdeaProjects\\\\TFM\\\\Utils\\\\paths.py'>"
     },
     "execution_count": 1,
     "metadata": {},
     "output_type": "execute_result"
    }
   ],
   "source": [
    "import importlib\n",
    "import skfda\n",
    "\n",
    "import pandas as pd\n",
    "import matplotlib.pyplot as plt\n",
    "import numpy as np\n",
    "\n",
    "from Utils import paths\n",
    "\n",
    "\n",
    "importlib.reload(paths)"
   ]
  },
  {
   "cell_type": "code",
   "execution_count": 2,
   "outputs": [
    {
     "data": {
      "text/plain": "((538, 2399), (538,))"
     },
     "execution_count": 2,
     "metadata": {},
     "output_type": "execute_result"
    }
   ],
   "source": [
    "X = pd.read_pickle(f'{paths.CC_DATA_PATH}/X.pickle')\n",
    "y = pd.read_pickle(f'{paths.CC_DATA_PATH}/y.pickle')\n",
    "X.shape, y.shape"
   ],
   "metadata": {
    "collapsed": false,
    "pycharm": {
     "name": "#%%\n"
    }
   }
  },
  {
   "cell_type": "code",
   "execution_count": 3,
   "outputs": [
    {
     "data": {
      "text/plain": "Int64Index([], dtype='int64')"
     },
     "execution_count": 3,
     "metadata": {},
     "output_type": "execute_result"
    }
   ],
   "source": [
    "X.index[X.isna().sum(axis=1) != 0]"
   ],
   "metadata": {
    "collapsed": false,
    "pycharm": {
     "name": "#%%\n"
    }
   }
  },
  {
   "cell_type": "code",
   "execution_count": null,
   "outputs": [],
   "source": [
    "X_fd = skfda.FDataGrid(X, grid_points=X.columns)\n",
    "outliergram = skfda.exploratory.visualization.Outliergram(fdata=X_fd)\n",
    "outliergram.plot()\n",
    "plt.savefig(f\"{paths.CC_DATA_PLOTS}/CC_Outliergram.pdf\")\n",
    "plt.savefig(f\"{paths.CC_DATA_PLOTS}/CC_Outliergram.png\")"
   ],
   "metadata": {
    "collapsed": false,
    "pycharm": {
     "name": "#%%\n",
     "is_executing": true
    }
   }
  },
  {
   "cell_type": "code",
   "execution_count": null,
   "outputs": [],
   "source": [
    "outliergram_outliers_idx = X.index[np.where(outliergram.outlier_detector.fit_predict(X_fd) == -1, True, False)]\n",
    "outliergram_outliers_idx"
   ],
   "metadata": {
    "collapsed": false,
    "pycharm": {
     "name": "#%%\n",
     "is_executing": true
    }
   }
  },
  {
   "cell_type": "code",
   "execution_count": null,
   "outputs": [],
   "source": [
    "y[outliergram_outliers_idx].value_counts()"
   ],
   "metadata": {
    "collapsed": false,
    "pycharm": {
     "name": "#%%\n",
     "is_executing": true
    }
   }
  },
  {
   "cell_type": "code",
   "execution_count": null,
   "outputs": [],
   "source": [
    "fig, ax = plt.subplots(nrows=1, ncols=1, figsize=(10, 5))\n",
    "ax.plot(X.mean().index, X.mean().values, label='Global mean')\n",
    "\n",
    "for idx in outliergram_outliers_idx:\n",
    "    ax.plot(X.loc[idx].index, X.loc[idx].values, alpha=0.5, label=idx)\n",
    "\n",
    "# ax.legend()\n",
    "ax.legend(bbox_to_anchor=(1, 1))\n",
    "ax.set_xlabel('Lag')\n",
    "ax.set_ylabel('Correlation')\n",
    "fig.tight_layout()\n",
    "plt.savefig(f\"{paths.CC_DATA_PLOTS}/CC_Outliergram_outliers.pdf\")\n",
    "plt.savefig(f\"{paths.CC_DATA_PLOTS}/CC_Outliergram_outliers.png\")"
   ],
   "metadata": {
    "collapsed": false,
    "pycharm": {
     "name": "#%%\n",
     "is_executing": true
    }
   }
  },
  {
   "cell_type": "code",
   "execution_count": null,
   "outputs": [],
   "source": [
    "ms_plot = skfda.exploratory.visualization.MagnitudeShapePlot(fdata=X_fd)\n",
    "ms_plot.plot()\n",
    "plt.savefig(f\"{paths.CC_DATA_PLOTS}/CC_MSPlot.pdf\")\n",
    "plt.savefig(f\"{paths.CC_DATA_PLOTS}/CC_MSPlot.png\")"
   ],
   "metadata": {
    "collapsed": false,
    "pycharm": {
     "name": "#%%\n",
     "is_executing": true
    }
   }
  },
  {
   "cell_type": "code",
   "execution_count": null,
   "outputs": [],
   "source": [
    "ms_outliers_idx = X.index[np.where(ms_plot.outlier_detector.fit_predict(X_fd) == -1, True, False)]\n",
    "ms_outliers_idx"
   ],
   "metadata": {
    "collapsed": false,
    "pycharm": {
     "name": "#%%\n",
     "is_executing": true
    }
   }
  },
  {
   "cell_type": "code",
   "execution_count": null,
   "outputs": [],
   "source": [
    "y[ms_outliers_idx].value_counts()"
   ],
   "metadata": {
    "collapsed": false,
    "pycharm": {
     "name": "#%%\n",
     "is_executing": true
    }
   }
  },
  {
   "cell_type": "code",
   "execution_count": null,
   "outputs": [],
   "source": [
    "fig, ax = plt.subplots(nrows=1, ncols=1, figsize=(10, 5))\n",
    "ax.plot(X.mean().index, X.mean().values, label='Global mean')\n",
    "\n",
    "for idx in ms_outliers_idx:\n",
    "    ax.plot(X.loc[idx].index, X.loc[idx].values, alpha=0.5, label=idx)\n",
    "\n",
    "# ax.legend()\n",
    "ax.legend(bbox_to_anchor=(1, 1))\n",
    "ax.set_xlabel('Lag')\n",
    "ax.set_ylabel('Correlation')\n",
    "fig.tight_layout()\n",
    "plt.savefig(f\"{paths.CC_DATA_PLOTS}/CC_MSPlot_outliers.pdf\")\n",
    "plt.savefig(f\"{paths.CC_DATA_PLOTS}/CC_MSPlot_outliers.png\")"
   ],
   "metadata": {
    "collapsed": false,
    "pycharm": {
     "name": "#%%\n",
     "is_executing": true
    }
   }
  },
  {
   "cell_type": "code",
   "execution_count": null,
   "outputs": [],
   "source": [
    "# Esto prueba que todos los outliers por Outliergram lo son tb por MagnitudeShapePlot\n",
    "set(outliergram_outliers_idx).intersection(set(ms_outliers_idx)) == set(ms_outliers_idx)"
   ],
   "metadata": {
    "collapsed": false,
    "pycharm": {
     "name": "#%%\n",
     "is_executing": true
    }
   }
  },
  {
   "cell_type": "code",
   "execution_count": null,
   "outputs": [],
   "source": [
    "X_fd = skfda.FDataGrid(X, grid_points=X.columns)\n",
    "mbd_boxplot = skfda.exploratory.visualization.Boxplot(X_fd, depth_method=skfda.exploratory.depth.ModifiedBandDepth())\n",
    "mbd_boxplot.plot()\n",
    "plt.savefig(f\"{paths.CC_DATA_PLOTS}/CC_MBD_Boxplot.pdf\")\n",
    "plt.savefig(f\"{paths.CC_DATA_PLOTS}/CC_MBD_Boxplot.png\")"
   ],
   "metadata": {
    "collapsed": false,
    "pycharm": {
     "name": "#%%\n",
     "is_executing": true
    }
   }
  },
  {
   "cell_type": "code",
   "execution_count": null,
   "outputs": [],
   "source": [
    "mbd_outlier_detector = skfda.exploratory.outliers.BoxplotOutlierDetector(depth_method=skfda.exploratory.depth.ModifiedBandDepth())\n",
    "mbd_outliers_idx = X.index[np.where(mbd_outlier_detector.fit_predict(X_fd) == -1, True, False)]\n",
    "mbd_outliers_idx"
   ],
   "metadata": {
    "collapsed": false,
    "pycharm": {
     "name": "#%%\n",
     "is_executing": true
    }
   }
  },
  {
   "cell_type": "code",
   "execution_count": null,
   "outputs": [],
   "source": [
    "X_fd = skfda.FDataGrid(X, grid_points=X.columns)\n",
    "id_boxplot = skfda.exploratory.visualization.Boxplot(X_fd, depth_method=skfda.exploratory.depth.IntegratedDepth())\n",
    "id_boxplot.plot()\n",
    "plt.savefig(f\"{paths.CC_DATA_PLOTS}/CC_ID_Boxplot.pdf\")\n",
    "plt.savefig(f\"{paths.CC_DATA_PLOTS}/CC_ID_Boxplot.png\")"
   ],
   "metadata": {
    "collapsed": false,
    "pycharm": {
     "name": "#%%\n",
     "is_executing": true
    }
   }
  },
  {
   "cell_type": "code",
   "execution_count": null,
   "outputs": [],
   "source": [
    "id_outlier_detector = skfda.exploratory.outliers.BoxplotOutlierDetector(depth_method=skfda.exploratory.depth.IntegratedDepth())\n",
    "id_outliers_idx = X.index[np.where(id_outlier_detector.fit_predict(X_fd) == -1, True, False)]\n",
    "id_outliers_idx"
   ],
   "metadata": {
    "collapsed": false,
    "pycharm": {
     "name": "#%%\n",
     "is_executing": true
    }
   }
  }
 ],
 "metadata": {
  "kernelspec": {
   "name": "pycharm-51968e28",
   "language": "python",
   "display_name": "PyCharm (TFM)"
  },
  "language_info": {
   "codemirror_mode": {
    "name": "ipython",
    "version": 2
   },
   "file_extension": ".py",
   "mimetype": "text/x-python",
   "name": "python",
   "nbconvert_exporter": "python",
   "pygments_lexer": "ipython2",
   "version": "2.7.6"
  }
 },
 "nbformat": 4,
 "nbformat_minor": 0
}