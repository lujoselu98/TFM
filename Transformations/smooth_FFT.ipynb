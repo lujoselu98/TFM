{
 "cells": [
  {
   "cell_type": "code",
   "execution_count": 2,
   "metadata": {
    "collapsed": true
   },
   "outputs": [],
   "source": [
    "import numpy as np\n",
    "import pandas as pd\n",
    "import skfda\n",
    "import skfda.misc.hat_matrix as hm\n",
    "import skfda.preprocessing.smoothing.validation as val\n",
    "from skfda.preprocessing.smoothing import KernelSmoother\n",
    "\n",
    "from tqdm.notebook import tqdm\n",
    "from Utils import fixed_values, common_functions, paths\n",
    "from Utils.common_functions import load_data"
   ]
  },
  {
   "cell_type": "code",
   "execution_count": 3,
   "outputs": [
    {
     "data": {
      "text/plain": "base:   0%|          | 0/100 [00:00<?, ?it/s]",
      "application/vnd.jupyter.widget-view+json": {
       "version_major": 2,
       "version_minor": 0,
       "model_id": "a1587d7f142042f9b1df834097596e29"
      }
     },
     "metadata": {},
     "output_type": "display_data"
    },
    {
     "data": {
      "text/plain": "filtered:   0%|          | 0/100 [00:00<?, ?it/s]",
      "application/vnd.jupyter.widget-view+json": {
       "version_major": 2,
       "version_minor": 0,
       "model_id": "12e2239142914e759cab7f068618e4b8"
      }
     },
     "metadata": {},
     "output_type": "display_data"
    },
    {
     "data": {
      "text/plain": "easy:   0%|          | 0/100 [00:00<?, ?it/s]",
      "application/vnd.jupyter.widget-view+json": {
       "version_major": 2,
       "version_minor": 0,
       "model_id": "2e53f0e8b7b24331a45a0e5022dff84c"
      }
     },
     "metadata": {},
     "output_type": "display_data"
    }
   ],
   "source": [
    "for data_set in ['base', 'filtered', 'easy']:\n",
    "    filter_data = data_set == 'filtered'\n",
    "    easy_data = data_set == 'easy'\n",
    "\n",
    "    tt, X, y = load_data('FFT', filter_data=filter_data, easy_data=easy_data, remove_outliers=False)\n",
    "    fd = skfda.FDataGrid(X, tt)\n",
    "    n_neighbors = np.arange(1, 24)\n",
    "    scale_factor = (\n",
    "            (fd.domain_range[0][1] - fd.domain_range[0][0]) / len(fd.grid_points[0])\n",
    "    )\n",
    "\n",
    "    bandwidth = n_neighbors * scale_factor\n",
    "    for idx_external in tqdm(range(fixed_values.EXTERNAL_SPLITS_SHUFFLE), desc=f\"{data_set}\"):\n",
    "\n",
    "        X_train, X_test, y_train, y_test = common_functions.get_fold(X, y, idx_external, strategy='randomsplit')\n",
    "        X_train_fd = skfda.FDataGrid(X_train, tt)\n",
    "        X_test_fd = skfda.FDataGrid(X_test, tt)\n",
    "\n",
    "        llr = val.SmoothingParameterSearch(\n",
    "            KernelSmoother(kernel_estimator=hm.LocalLinearRegressionHatMatrix()),\n",
    "            bandwidth,\n",
    "            param_name='kernel_estimator__bandwidth',\n",
    "        )\n",
    "\n",
    "        llr.fit(X_train_fd)\n",
    "\n",
    "        X_train_llr = llr.transform(X_train_fd)\n",
    "        X_test_llr = llr.transform(X_test_fd)\n",
    "\n",
    "        X_train_smoothed = pd.DataFrame(X_train_llr.data_matrix.reshape(X_train.shape), columns=X_train.columns, index=X_train.index)\n",
    "        X_test_smoothed = pd.DataFrame(X_test_llr.data_matrix.reshape(X_test.shape), columns=X_test.columns, index=X_test.index)\n",
    "\n",
    "        X_train_smoothed.to_pickle(f'{paths.FFT_DATA_PATH}/smoothed_data/{data_set}/X_{idx_external}_train.pickle')\n",
    "        X_test_smoothed.to_pickle(f'{paths.FFT_DATA_PATH}/smoothed_data/{data_set}/X_{idx_external}_test.pickle')"
   ],
   "metadata": {
    "collapsed": false,
    "pycharm": {
     "name": "#%%\n"
    }
   }
  },
  {
   "cell_type": "code",
   "execution_count": 42,
   "outputs": [
    {
     "data": {
      "text/plain": "array([0.00018467, 0.00036934, 0.00055401, 0.00073869, 0.00092336,\n       0.00110803, 0.0012927 , 0.00147737, 0.00166204, 0.00184671,\n       0.00203138, 0.00221606, 0.00240073, 0.0025854 , 0.00277007,\n       0.00295474, 0.00313941, 0.00332408, 0.00350875, 0.00369343,\n       0.0038781 , 0.00406277, 0.00424744])"
     },
     "execution_count": 42,
     "metadata": {},
     "output_type": "execute_result"
    }
   ],
   "source": [],
   "metadata": {
    "collapsed": false,
    "pycharm": {
     "name": "#%%\n"
    }
   }
  }
 ],
 "metadata": {
  "kernelspec": {
   "display_name": "Python 3",
   "language": "python",
   "name": "python3"
  },
  "language_info": {
   "codemirror_mode": {
    "name": "ipython",
    "version": 2
   },
   "file_extension": ".py",
   "mimetype": "text/x-python",
   "name": "python",
   "nbconvert_exporter": "python",
   "pygments_lexer": "ipython2",
   "version": "2.7.6"
  }
 },
 "nbformat": 4,
 "nbformat_minor": 0
}